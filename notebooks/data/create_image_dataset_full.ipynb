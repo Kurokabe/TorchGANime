{
 "cells": [
  {
   "cell_type": "code",
   "execution_count": 1,
   "id": "ff9b917f",
   "metadata": {},
   "outputs": [],
   "source": [
    "%load_ext autoreload\n",
    "%autoreload 2"
   ]
  },
  {
   "cell_type": "code",
   "execution_count": 2,
   "id": "8d76abef-1339-4587-9847-451882cf2cb0",
   "metadata": {},
   "outputs": [],
   "source": [
    "import os\n",
    "import cv2\n",
    "import glob\n",
    "import tarfile\n",
    "import tempfile\n",
    "import numpy as np\n",
    "import time\n",
    "import skvideo.io\n",
    "from tqdm.auto import tqdm\n",
    "import torch\n",
    "from torchvision.utils import save_image\n",
    "import torchvision.io"
   ]
  },
  {
   "cell_type": "code",
   "execution_count": 3,
   "id": "e7585ba1-b79c-4170-9814-b8985038a559",
   "metadata": {},
   "outputs": [],
   "source": [
    "snk_dir = \"/TorchGANime/data/snk/raw_videos\"\n",
    "kny_dir = \"/TorchGANime/data/kny/raw_videos\""
   ]
  },
  {
   "cell_type": "code",
   "execution_count": 4,
   "id": "da4ba375-a842-4ca9-9f50-813011d81431",
   "metadata": {},
   "outputs": [],
   "source": [
    "every_n = 20"
   ]
  },
  {
   "cell_type": "code",
   "execution_count": 5,
   "id": "46012312-2933-47a4-a5f4-7d6b7e14d836",
   "metadata": {},
   "outputs": [],
   "source": [
    "kny_video_paths = sorted(glob.glob(f\"{kny_dir}/*.mkv\"))\n",
    "snk_video_paths = sorted(glob.glob(f\"{snk_dir}/*.mkv\"))\n",
    "video_paths = kny_video_paths + snk_video_paths"
   ]
  },
  {
   "cell_type": "code",
   "execution_count": 6,
   "id": "c465fa01-250a-4df5-bfb2-197bf3943765",
   "metadata": {},
   "outputs": [],
   "source": [
    "def write_video_as_images(video, directory):\n",
    "    for i, image in enumerate(video):\n",
    "        # skvideo.io.vwrite(os.path.join(directory, f\"{i}.png\"), image)\n",
    "        # save_image(torch.permute(torch.tensor(image), (2, 0, 1)) / 255.0, os.path.join(directory, f\"{i}.png\"))\n",
    "        save_image(torch.permute(image, (2, 0, 1)) / 255.0, os.path.join(directory, f\"{i}.png\"))"
   ]
  },
  {
   "cell_type": "code",
   "execution_count": 7,
   "id": "8c0ffc04-0fc7-4894-ae7f-62c2c7203342",
   "metadata": {
    "tags": []
   },
   "outputs": [
    {
     "name": "stderr",
     "output_type": "stream",
     "text": [
      "/usr/local/lib/python3.9/dist-packages/torchvision/io/video.py:162: UserWarning: The pts_unit 'pts' gives wrong results. Please use pts_unit 'sec'.\n",
      "  warnings.warn(\"The pts_unit 'pts' gives wrong results. Please use pts_unit 'sec'.\")\n"
     ]
    }
   ],
   "source": [
    "parent_dir = \"/TorchGANime/data/full\"\n",
    "for i in range(70, len(video_paths)):\n",
    "    video_path = video_paths[i]\n",
    "    save_folder = f\"{parent_dir}/train\" if i % 10 != 0 else f\"{parent_dir}/val\"\n",
    "    save_folder = f\"{save_folder}/{i+1:02d}\"\n",
    "    os.makedirs(save_folder, exist_ok=True)\n",
    "    # # cap = cv2.VideoCapture(video_path)\n",
    "    # try:\n",
    "    # video = skvideo.io.vread(video_path)\n",
    "    video = torchvision.io.read_video(video_path)[0]\n",
    "    # with tempfile.TemporaryDirectory() as tmpdirname:\n",
    "    write_video_as_images(video[::every_n], save_folder)\n",
    "    # except Exception as e:\n",
    "    #     print(f\"Failed to read {video_path}\")\n",
    "    #     print(e)\n",
    "    #     continue\n",
    "    #     create_tar(tmpdirname, save_folder)"
   ]
  },
  {
   "cell_type": "code",
   "execution_count": 9,
   "id": "7dbb1f2a",
   "metadata": {},
   "outputs": [],
   "source": [
    "video = torchvision.io.read_video(video_paths[0])"
   ]
  },
  {
   "cell_type": "code",
   "execution_count": null,
   "id": "09796c98",
   "metadata": {},
   "outputs": [],
   "source": []
  },
  {
   "cell_type": "code",
   "execution_count": null,
   "id": "9c0141be-9bbd-42a2-a36c-58418b6f2259",
   "metadata": {},
   "outputs": [],
   "source": [
    "os.chdir(\"/TorchGANime/data/\")"
   ]
  },
  {
   "cell_type": "code",
   "execution_count": 11,
   "id": "74d39366",
   "metadata": {},
   "outputs": [],
   "source": [
    "from glob import glob\n",
    "import os\n",
    "files = sorted(glob(\"/TorchGANime/data/*/images/**.tar.gz\"))\n",
    "for i, file in enumerate(files):\n",
    "    if i % 10 == 0:\n",
    "        output = f\"/TorchGANime/data/full/val/{i+1:02d}\"\n",
    "    else:\n",
    "        output = f\"/TorchGANime/data/full/train/{i+1:02d}\"\n",
    "\n",
    "    os.system(f\"tar -xf {file} -C {output}\")\n",
    "    break"
   ]
  },
  {
   "cell_type": "code",
   "execution_count": null,
   "id": "31a32e32",
   "metadata": {},
   "outputs": [],
   "source": []
  }
 ],
 "metadata": {
  "kernelspec": {
   "display_name": "Python 3.9.15 64-bit",
   "language": "python",
   "name": "python3"
  },
  "language_info": {
   "codemirror_mode": {
    "name": "ipython",
    "version": 3
   },
   "file_extension": ".py",
   "mimetype": "text/x-python",
   "name": "python",
   "nbconvert_exporter": "python",
   "pygments_lexer": "ipython3",
   "version": "3.9.15"
  },
  "vscode": {
   "interpreter": {
    "hash": "f9f85f796d01129d0dd105a088854619f454435301f6ffec2fea96ecbd9be4ac"
   }
  }
 },
 "nbformat": 4,
 "nbformat_minor": 5
}
