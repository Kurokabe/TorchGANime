{
 "cells": [
  {
   "cell_type": "code",
   "execution_count": 1,
   "id": "8d76abef-1339-4587-9847-451882cf2cb0",
   "metadata": {},
   "outputs": [],
   "source": [
    "import os\n",
    "import cv2\n",
    "import glob\n",
    "import tarfile\n",
    "import tempfile\n",
    "import numpy as np\n",
    "import time\n",
    "import skvideo.io\n",
    "from tqdm.auto import tqdm\n",
    "import torch\n",
    "from torchvision.utils import save_image"
   ]
  },
  {
   "cell_type": "code",
   "execution_count": 14,
   "id": "e7585ba1-b79c-4170-9814-b8985038a559",
   "metadata": {},
   "outputs": [],
   "source": [
    "snk_dir = \"/TorchGANime/data/snk/raw_videos\"\n",
    "kny_dir = \"/TorchGANime/data/kny/raw_videos\""
   ]
  },
  {
   "cell_type": "code",
   "execution_count": 15,
   "id": "da4ba375-a842-4ca9-9f50-813011d81431",
   "metadata": {},
   "outputs": [],
   "source": [
    "every_n = 15"
   ]
  },
  {
   "cell_type": "code",
   "execution_count": 16,
   "id": "46012312-2933-47a4-a5f4-7d6b7e14d836",
   "metadata": {},
   "outputs": [],
   "source": [
    "kny_video_paths = sorted(glob.glob(f\"{kny_dir}/*.mkv\"))\n",
    "snk_video_paths = sorted(glob.glob(f\"{snk_dir}/*.mkv\"))\n",
    "video_paths = kny_video_paths + snk_video_paths"
   ]
  },
  {
   "cell_type": "code",
   "execution_count": 10,
   "id": "c465fa01-250a-4df5-bfb2-197bf3943765",
   "metadata": {},
   "outputs": [],
   "source": [
    "def write_video_as_images(video, directory):\n",
    "    for i, image in tqdm(enumerate(video)):\n",
    "        # skvideo.io.vwrite(os.path.join(directory, f\"{i}.png\"), image)\n",
    "        save_image(torch.permute(torch.tensor(image), (2, 0, 1)) / 255.0, os.path.join(directory, f\"{i}.png\"))"
   ]
  },
  {
   "cell_type": "code",
   "execution_count": 21,
   "id": "8c0ffc04-0fc7-4894-ae7f-62c2c7203342",
   "metadata": {
    "tags": []
   },
   "outputs": [
    {
     "data": {
      "application/vnd.jupyter.widget-view+json": {
       "model_id": "30e5005382864570a9479b8ecfe618b3",
       "version_major": 2,
       "version_minor": 0
      },
      "text/plain": [
       "0it [00:00, ?it/s]"
      ]
     },
     "metadata": {},
     "output_type": "display_data"
    },
    {
     "data": {
      "application/vnd.jupyter.widget-view+json": {
       "model_id": "528c50919cdc4dc68225e065121a05e3",
       "version_major": 2,
       "version_minor": 0
      },
      "text/plain": [
       "0it [00:00, ?it/s]"
      ]
     },
     "metadata": {},
     "output_type": "display_data"
    }
   ],
   "source": [
    "parent_dir = \"/TorchGANime/data/full\"\n",
    "for i, video_path in tqdm(enumerate(video_paths)):\n",
    "    save_folder = f\"{parent_dir}/train\" if i % 10 != 0 else f\"{parent_dir}/val\"\n",
    "    save_folder = f\"{save_folder}/{i+1:02d}\"\n",
    "    os.makedirs(save_folder, exist_ok=True)\n",
    "    # # cap = cv2.VideoCapture(video_path)\n",
    "    video = skvideo.io.vread(video_path)\n",
    "    # with tempfile.TemporaryDirectory() as tmpdirname:\n",
    "    write_video_as_images(video[::every_n], save_folder)\n",
    "    #     create_tar(tmpdirname, save_folder)"
   ]
  },
  {
   "cell_type": "code",
   "execution_count": null,
   "id": "9c0141be-9bbd-42a2-a36c-58418b6f2259",
   "metadata": {},
   "outputs": [],
   "source": []
  }
 ],
 "metadata": {
  "kernelspec": {
   "display_name": "Python 3.9.15 64-bit",
   "language": "python",
   "name": "python3"
  },
  "language_info": {
   "codemirror_mode": {
    "name": "ipython",
    "version": 3
   },
   "file_extension": ".py",
   "mimetype": "text/x-python",
   "name": "python",
   "nbconvert_exporter": "python",
   "pygments_lexer": "ipython3",
   "version": "3.9.15"
  },
  "vscode": {
   "interpreter": {
    "hash": "f9f85f796d01129d0dd105a088854619f454435301f6ffec2fea96ecbd9be4ac"
   }
  }
 },
 "nbformat": 4,
 "nbformat_minor": 5
}
