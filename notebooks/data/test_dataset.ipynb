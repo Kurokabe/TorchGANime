{
 "cells": [
  {
   "cell_type": "code",
   "execution_count": 1,
   "metadata": {},
   "outputs": [],
   "source": [
    "import os"
   ]
  },
  {
   "cell_type": "code",
   "execution_count": 2,
   "metadata": {},
   "outputs": [],
   "source": [
    "os.chdir(\"../../data/snk/raw_videos\")"
   ]
  },
  {
   "cell_type": "code",
   "execution_count": 2,
   "id": "61cc5529-b059-4914-b3c5-3e966a991327",
   "metadata": {},
   "outputs": [],
   "source": [
    "import torch\n",
    "from torchdata.datapipes.iter import FileLister, FileOpener\n",
    "import torchvision\n",
    "import imageio\n",
    "import io\n",
    "import torchvision.transforms as T\n",
    "from torch.utils.data import Dataset, DataLoader"
   ]
  },
  {
   "cell_type": "code",
   "execution_count": null,
   "metadata": {},
   "outputs": [],
   "source": [
    "class ImageDataset(Dataset):\n",
    "    \"\"\"Image dataset.\"\"\"\n",
    "\n",
    "    def __init__(self, root_dir, transform=None):\n",
    "        \"\"\"\n",
    "        Args:\n",
    "            root_dir (string): Directory with all the images.\n",
    "            transform (callable, optional): Optional transform to be applied\n",
    "                on a sample.\n",
    "        \"\"\"\n",
    "        self.root_dir = root_dir\n",
    "        self.transform = transform\n",
    "\n",
    "    def __len__(self):\n",
    "        return len(self.landmarks_frame)\n",
    "\n",
    "    def __getitem__(self, idx):\n",
    "        if torch.is_tensor(idx):\n",
    "            idx = idx.tolist()\n",
    "\n",
    "        img_name = os.path.join(self.root_dir,\n",
    "                                self.landmarks_frame.iloc[idx, 0])\n",
    "        image = io.imread(img_name)\n",
    "        landmarks = self.landmarks_frame.iloc[idx, 1:]\n",
    "        landmarks = np.array([landmarks])\n",
    "        landmarks = landmarks.astype('float').reshape(-1, 2)\n",
    "        sample = {'image': image, 'landmarks': landmarks}\n",
    "\n",
    "        if self.transform:\n",
    "            sample = self.transform(sample)\n",
    "\n",
    "        return sample\n"
   ]
  },
  {
   "cell_type": "code",
   "execution_count": 4,
   "id": "56c9b2d4-2073-4061-b3b7-8bd201797d5c",
   "metadata": {},
   "outputs": [],
   "source": [
    "import matplotlib.pyplot as plt\n",
    "def display_images(data, n_rows=3, n_cols=3):\n",
    "    figure, axs = plt.subplots(n_rows, n_cols, figsize=(24, 12))\n",
    "\n",
    "    axs = axs.flatten()\n",
    "\n",
    "    plt.setp(axs, xticks=[], yticks=[])\n",
    "    plt.subplots_adjust(wspace=0, hspace=0)\n",
    "\n",
    "    for img, ax in zip(data, axs):\n",
    "        ax.imshow(img)\n",
    "\n",
    "    return figure"
   ]
  },
  {
   "cell_type": "code",
   "execution_count": 37,
   "id": "6c4f79a4-971c-442d-a2ac-7404593dfb4b",
   "metadata": {},
   "outputs": [
    {
     "ename": "AttributeError",
     "evalue": "'WebDatasetIterDataPipe' object has no attribute 'to_tuple",
     "output_type": "error",
     "traceback": [
      "\u001b[0;31m---------------------------------------------------------------------------\u001b[0m",
      "\u001b[0;31mAttributeError\u001b[0m                            Traceback (most recent call last)",
      "Cell \u001b[0;32mIn [37], line 23\u001b[0m\n\u001b[1;32m     21\u001b[0m datapipe1 \u001b[38;5;241m=\u001b[39m FileLister(\u001b[38;5;124m\"\u001b[39m\u001b[38;5;124m../../data/snk/images/\u001b[39m\u001b[38;5;124m\"\u001b[39m, \u001b[38;5;124m\"\u001b[39m\u001b[38;5;124m*.tar.gz\u001b[39m\u001b[38;5;124m\"\u001b[39m)\n\u001b[1;32m     22\u001b[0m datapipe2 \u001b[38;5;241m=\u001b[39m FileOpener(datapipe1, mode\u001b[38;5;241m=\u001b[39m\u001b[38;5;124m\"\u001b[39m\u001b[38;5;124mb\u001b[39m\u001b[38;5;124m\"\u001b[39m)\n\u001b[0;32m---> 23\u001b[0m dataset \u001b[38;5;241m=\u001b[39m \u001b[43mdatapipe2\u001b[49m\u001b[38;5;241;43m.\u001b[39;49m\u001b[43mload_from_tar\u001b[49m\u001b[43m(\u001b[49m\u001b[43m)\u001b[49m\u001b[38;5;241;43m.\u001b[39;49m\u001b[43mmap\u001b[49m\u001b[43m(\u001b[49m\u001b[43mdecode\u001b[49m\u001b[43m)\u001b[49m\u001b[38;5;241;43m.\u001b[39;49m\u001b[43mwebdataset\u001b[49m\u001b[43m(\u001b[49m\u001b[43m)\u001b[49m\u001b[38;5;241;43m.\u001b[39;49m\u001b[43mto_tuple\u001b[49m(\u001b[38;5;124m\"\u001b[39m\u001b[38;5;124mjpg;png\u001b[39m\u001b[38;5;124m\"\u001b[39m, \u001b[38;5;124m\"\u001b[39m\u001b[38;5;124mjson\u001b[39m\u001b[38;5;124m\"\u001b[39m)\u001b[38;5;241m.\u001b[39mmap_tuple(preproc, identity)\n",
      "File \u001b[0;32m/usr/local/lib/python3.9/dist-packages/torch/utils/data/datapipes/datapipe.py:123\u001b[0m, in \u001b[0;36mIterDataPipe.__getattr__\u001b[0;34m(self, attribute_name)\u001b[0m\n\u001b[1;32m    121\u001b[0m     \u001b[39mreturn\u001b[39;00m function\n\u001b[1;32m    122\u001b[0m \u001b[39melse\u001b[39;00m:\n\u001b[0;32m--> 123\u001b[0m     \u001b[39mraise\u001b[39;00m \u001b[39mAttributeError\u001b[39;00m(\u001b[39m\"\u001b[39m\u001b[39m'\u001b[39m\u001b[39m{0}\u001b[39;00m\u001b[39m'\u001b[39m\u001b[39m object has no attribute \u001b[39m\u001b[39m'\u001b[39m\u001b[39m{1}\u001b[39;00m\u001b[39m\"\u001b[39m\u001b[39m.\u001b[39mformat(\u001b[39mself\u001b[39m\u001b[39m.\u001b[39m\u001b[39m__class__\u001b[39m\u001b[39m.\u001b[39m\u001b[39m__name__\u001b[39m, attribute_name))\n",
      "\u001b[0;31mAttributeError\u001b[0m: 'WebDatasetIterDataPipe' object has no attribute 'to_tuple"
     ]
    }
   ],
   "source": [
    "def decode(item):\n",
    "    path, compressed_image = item\n",
    "    image = imageio.imread(compressed_image.read())\n",
    "\n",
    "    return path, image\n",
    "\n",
    "\n",
    "normalize = T.Normalize(\n",
    "    mean=[0.485, 0.456, 0.406],\n",
    "    std=[0.229, 0.224, 0.225])\n",
    "\n",
    "preproc = T.Compose([\n",
    "    T.RandomResizedCrop(224),\n",
    "    T.RandomHorizontalFlip(),\n",
    "    T.ToTensor(),\n",
    "    normalize,\n",
    "])\n",
    "    \n",
    "datapipe1 = FileLister(\"../../data/snk/images/\", \"*.tar.gz\")\n",
    "datapipe2 = FileOpener(datapipe1, mode=\"b\")\n",
    "dataset = datapipe2.load_from_tar().map(decode).webdataset().to_tuple(\"jpg;png\", \"json\").map_tuple(preproc, identity)\n",
    "# images = []\n",
    "# for obj in dataset:\n",
    "    # key, val = obj.items()\n",
    "    # image = val[1]\n",
    "    # images.append(image)"
   ]
  },
  {
   "cell_type": "code",
   "execution_count": 42,
   "metadata": {},
   "outputs": [],
   "source": [
    "def identity(element):\n",
    "    return element\n",
    "\n",
    "import webdataset as wds\n",
    "transform = T.Compose(\n",
    "                [\n",
    "                    # T.RandomResizedCrop(224),\n",
    "                    # T.RandomHorizontalFlip(),\n",
    "                    T.ToTensor(),\n",
    "                    # self.normalize,\n",
    "                ]\n",
    "            )\n",
    "dataset = (\n",
    "            wds.WebDataset(\"../../data/snk/images/01.tar.gz\", \"../../data/snk/images/02.tar.gz\")\n",
    "            .shuffle(500)\n",
    "            .decode(\"pil\")\n",
    "            .to_tuple(\"__key__ jpg;png;jpeg\")\n",
    "            .map_tuple(identity, transform)\n",
    "            .batched(8, partial=False)\n",
    "        )"
   ]
  },
  {
   "cell_type": "code",
   "execution_count": 43,
   "metadata": {},
   "outputs": [],
   "source": [
    "dataloader = torch.utils.data.DataLoader(dataset, num_workers=0)"
   ]
  },
  {
   "cell_type": "code",
   "execution_count": null,
   "metadata": {},
   "outputs": [],
   "source": [
    "for data in dataloader:\n",
    "    print(data[0])"
   ]
  },
  {
   "cell_type": "code",
   "execution_count": null,
   "id": "e5572dbf-ed48-4c37-b646-47b3d17df96e",
   "metadata": {},
   "outputs": [],
   "source": [
    "display_images(images, 2, 4)\n",
    "plt.show()"
   ]
  },
  {
   "cell_type": "code",
   "execution_count": null,
   "metadata": {},
   "outputs": [],
   "source": [
    "# TODO improve from that: https://github.com/webdataset/webdataset-lightning/blob/main/train.py"
   ]
  },
  {
   "cell_type": "code",
   "execution_count": 26,
   "metadata": {},
   "outputs": [
    {
     "name": "stdout",
     "output_type": "stream",
     "text": [
      "The autoreload extension is already loaded. To reload it, use:\n",
      "  %reload_ext autoreload\n"
     ]
    }
   ],
   "source": [
    "%load_ext autoreload\n",
    "%autoreload 2"
   ]
  },
  {
   "cell_type": "code",
   "execution_count": 27,
   "metadata": {},
   "outputs": [],
   "source": [
    "import sys\n",
    "sys.path.append(\"../../\")"
   ]
  },
  {
   "cell_type": "code",
   "execution_count": 28,
   "metadata": {},
   "outputs": [],
   "source": [
    "from torchganime.data.image import ImageData"
   ]
  },
  {
   "cell_type": "code",
   "execution_count": 52,
   "metadata": {},
   "outputs": [
    {
     "name": "stdout",
     "output_type": "stream",
     "text": [
      "training_urls =  ['../../data/snk/images/01.tar.gz', '../../data/snk/images/02.tar.gz', '../../data/snk/images/03.tar.gz', '../../data/snk/images/04.tar.gz', '../../data/snk/images/05.tar.gz', '../../data/snk/images/06.tar.gz', '../../data/snk/images/07.tar.gz', '../../data/snk/images/08.tar.gz', '../../data/snk/images/09.tar.gz', '../../data/snk/images/10.tar.gz', '../../data/snk/images/11.tar.gz', '../../data/snk/images/12.tar.gz', '../../data/snk/images/13.tar.gz', '../../data/snk/images/14.tar.gz', '../../data/snk/images/15.tar.gz', '../../data/snk/images/16.tar.gz', '../../data/snk/images/17.tar.gz', '../../data/snk/images/18.tar.gz', '../../data/snk/images/19.tar.gz', '../../data/snk/images/20.tar.gz', '../../data/snk/images/21.tar.gz', '../../data/snk/images/22.tar.gz', '../../data/snk/images/23.tar.gz', '../../data/snk/images/24.tar.gz', '../../data/snk/images/25.tar.gz', '../../data/snk/images/26.tar.gz', '../../data/kny/images/01.tar.gz', '../../data/kny/images/02.tar.gz', '../../data/kny/images/03.tar.gz', '../../data/kny/images/04.tar.gz', '../../data/kny/images/05.tar.gz', '../../data/kny/images/06.tar.gz', '../../data/kny/images/07.tar.gz', '../../data/kny/images/08.tar.gz', '../../data/kny/images/09.tar.gz', '../../data/kny/images/10.tar.gz', '../../data/kny/images/11.tar.gz', '../../data/kny/images/12.tar.gz', '../../data/kny/images/13.tar.gz', '../../data/kny/images/14.tar.gz', '../../data/kny/images/15.tar.gz', '../../data/kny/images/16.tar.gz', '../../data/kny/images/17.tar.gz', '../../data/kny/images/18.tar.gz', '../../data/kny/images/19.tar.gz', '../../data/kny/images/20.tar.gz', '../../data/kny/images/21.tar.gz', '../../data/kny/images/22.tar.gz', '../../data/kny/images/23.tar.gz', '../../data/kny/images/24.tar.gz', '../../data/kny/images/25.tar.gz', '../../data/kny/images/26.tar.gz', '../../data/kny/images/27.tar.gz', '../../data/kny/images/28.tar.gz', '../../data/kny/images/29.tar.gz', '../../data/kny/images/30.tar.gz', '../../data/kny/images/31.tar.gz', '../../data/kny/images/32.tar.gz', '../../data/kny/images/33.tar.gz', '../../data/kny/images/34.tar.gz', '../../data/kny/images/35.tar.gz', '../../data/kny/images/36.tar.gz', '../../data/kny/images/37.tar.gz', '../../data/kny/images/38.tar.gz', '../../data/kny/images/39.tar.gz', '../../data/kny/images/40.tar.gz', '../../data/kny/images/41.tar.gz', '../../data/kny/images/42.tar.gz', '../../data/kny/images/43.tar.gz', '../../data/kny/images/44.tar.gz']\n",
      "len training_urls =  70\n",
      "batch_size 64 num_workers 4\n"
     ]
    }
   ],
   "source": [
    "dataset = ImageData([\"../../data/snk/images\", \"../../data/kny/images\"], batch_size=1)\n"
   ]
  },
  {
   "cell_type": "code",
   "execution_count": 53,
   "metadata": {},
   "outputs": [
    {
     "name": "stdout",
     "output_type": "stream",
     "text": [
      "[['../../data/snk/images/01.tar.gz:45', '../../data/snk/images/01.tar.gz:66', '../../data/snk/images/01.tar.gz:64', '../../data/snk/images/01.tar.gz:58', '../../data/snk/images/01.tar.gz:42', '../../data/snk/images/01.tar.gz:75', '../../data/snk/images/01.tar.gz:103', '../../data/snk/images/01.tar.gz:6', '../../data/snk/images/01.tar.gz:70', '../../data/snk/images/01.tar.gz:60', '../../data/snk/images/01.tar.gz:20', '../../data/snk/images/01.tar.gz:102', '../../data/snk/images/01.tar.gz:11', '../../data/snk/images/01.tar.gz:101', '../../data/snk/images/01.tar.gz:84', '../../data/snk/images/01.tar.gz:111', '../../data/snk/images/01.tar.gz:62', '../../data/snk/images/01.tar.gz:119', '../../data/snk/images/01.tar.gz:135', '../../data/snk/images/01.tar.gz:78', '../../data/snk/images/01.tar.gz:36', '../../data/snk/images/01.tar.gz:48', '../../data/snk/images/01.tar.gz:77', '../../data/snk/images/01.tar.gz:86', '../../data/snk/images/01.tar.gz:65', '../../data/snk/images/01.tar.gz:49', '../../data/snk/images/01.tar.gz:8', '../../data/snk/images/01.tar.gz:148', '../../data/snk/images/01.tar.gz:2', '../../data/snk/images/01.tar.gz:83', '../../data/snk/images/01.tar.gz:24', '../../data/snk/images/01.tar.gz:18', '../../data/snk/images/01.tar.gz:44', '../../data/snk/images/01.tar.gz:85', '../../data/snk/images/01.tar.gz:31', '../../data/snk/images/01.tar.gz:55', '../../data/snk/images/01.tar.gz:23', '../../data/snk/images/01.tar.gz:43', '../../data/snk/images/01.tar.gz:173', '../../data/snk/images/01.tar.gz:157', '../../data/snk/images/01.tar.gz:154', '../../data/snk/images/01.tar.gz:109', '../../data/snk/images/01.tar.gz:25', '../../data/snk/images/01.tar.gz:115', '../../data/snk/images/01.tar.gz:112', '../../data/snk/images/01.tar.gz:113', '../../data/snk/images/01.tar.gz:50', '../../data/snk/images/01.tar.gz:143', '../../data/snk/images/01.tar.gz:38', '../../data/snk/images/01.tar.gz:120', '../../data/snk/images/01.tar.gz:41', '../../data/snk/images/01.tar.gz:147', '../../data/snk/images/01.tar.gz:196', '../../data/snk/images/01.tar.gz:105', '../../data/snk/images/01.tar.gz:172', '../../data/snk/images/01.tar.gz:16', '../../data/snk/images/01.tar.gz:195', '../../data/snk/images/01.tar.gz:47', '../../data/snk/images/01.tar.gz:180', '../../data/snk/images/01.tar.gz:134', '../../data/snk/images/01.tar.gz:179', '../../data/snk/images/01.tar.gz:35', '../../data/snk/images/01.tar.gz:145', '../../data/snk/images/01.tar.gz:164'], tensor([[[[-0.8588, -0.8510, -0.8353,  ..., -0.8667, -0.8745, -0.8745],\n",
      "          [-0.8588, -0.8510, -0.8353,  ..., -0.8667, -0.8745, -0.8745],\n",
      "          [-0.8588, -0.8510, -0.8431,  ..., -0.8667, -0.8667, -0.8667],\n",
      "          ...,\n",
      "          [-0.7647, -0.7647, -0.7725,  ..., -0.6392, -0.6549, -0.6627],\n",
      "          [-0.7569, -0.7569, -0.7647,  ..., -0.6471, -0.6549, -0.6549],\n",
      "          [-0.7569, -0.7569, -0.7647,  ..., -0.6471, -0.6549, -0.6549]],\n",
      "\n",
      "         [[-0.8588, -0.8510, -0.8353,  ..., -0.8667, -0.8745, -0.8745],\n",
      "          [-0.8588, -0.8510, -0.8353,  ..., -0.8667, -0.8745, -0.8745],\n",
      "          [-0.8588, -0.8510, -0.8431,  ..., -0.8667, -0.8667, -0.8667],\n",
      "          ...,\n",
      "          [-0.7647, -0.7647, -0.7725,  ..., -0.6392, -0.6549, -0.6627],\n",
      "          [-0.7569, -0.7569, -0.7647,  ..., -0.6471, -0.6549, -0.6549],\n",
      "          [-0.7569, -0.7569, -0.7647,  ..., -0.6471, -0.6549, -0.6549]],\n",
      "\n",
      "         [[-0.8588, -0.8510, -0.8353,  ..., -0.8667, -0.8745, -0.8745],\n",
      "          [-0.8588, -0.8510, -0.8353,  ..., -0.8667, -0.8745, -0.8745],\n",
      "          [-0.8588, -0.8510, -0.8431,  ..., -0.8667, -0.8667, -0.8667],\n",
      "          ...,\n",
      "          [-0.7647, -0.7647, -0.7725,  ..., -0.6392, -0.6549, -0.6627],\n",
      "          [-0.7569, -0.7569, -0.7647,  ..., -0.6471, -0.6549, -0.6549],\n",
      "          [-0.7569, -0.7569, -0.7647,  ..., -0.6471, -0.6549, -0.6549]]],\n",
      "\n",
      "\n",
      "        [[[-1.0000, -1.0000, -1.0000,  ..., -1.0000, -1.0000, -1.0000],\n",
      "          [-1.0000, -1.0000, -1.0000,  ..., -1.0000, -1.0000, -1.0000],\n",
      "          [-1.0000, -1.0000, -1.0000,  ..., -1.0000, -1.0000, -1.0000],\n",
      "          ...,\n",
      "          [-1.0000, -1.0000, -1.0000,  ..., -1.0000, -1.0000, -1.0000],\n",
      "          [-1.0000, -1.0000, -1.0000,  ..., -1.0000, -1.0000, -1.0000],\n",
      "          [-1.0000, -1.0000, -1.0000,  ..., -1.0000, -1.0000, -1.0000]],\n",
      "\n",
      "         [[-1.0000, -1.0000, -1.0000,  ..., -1.0000, -1.0000, -1.0000],\n",
      "          [-1.0000, -1.0000, -1.0000,  ..., -1.0000, -1.0000, -1.0000],\n",
      "          [-1.0000, -1.0000, -1.0000,  ..., -1.0000, -1.0000, -1.0000],\n",
      "          ...,\n",
      "          [-1.0000, -1.0000, -1.0000,  ..., -1.0000, -1.0000, -1.0000],\n",
      "          [-1.0000, -1.0000, -1.0000,  ..., -1.0000, -1.0000, -1.0000],\n",
      "          [-1.0000, -1.0000, -1.0000,  ..., -1.0000, -1.0000, -1.0000]],\n",
      "\n",
      "         [[-1.0000, -1.0000, -1.0000,  ..., -1.0000, -1.0000, -1.0000],\n",
      "          [-1.0000, -1.0000, -1.0000,  ..., -1.0000, -1.0000, -1.0000],\n",
      "          [-1.0000, -1.0000, -1.0000,  ..., -1.0000, -1.0000, -1.0000],\n",
      "          ...,\n",
      "          [-1.0000, -1.0000, -1.0000,  ..., -1.0000, -1.0000, -1.0000],\n",
      "          [-1.0000, -1.0000, -1.0000,  ..., -1.0000, -1.0000, -1.0000],\n",
      "          [-1.0000, -1.0000, -1.0000,  ..., -1.0000, -1.0000, -1.0000]]],\n",
      "\n",
      "\n",
      "        [[[-0.8510, -0.8431, -0.8431,  ..., -0.8196, -0.8039, -0.8196],\n",
      "          [-0.8431, -0.8510, -0.8510,  ..., -0.8196, -0.7961, -0.8039],\n",
      "          [-0.8353, -0.8431, -0.8510,  ..., -0.8118, -0.7882, -0.7961],\n",
      "          ...,\n",
      "          [-0.7804, -0.7725, -0.7725,  ..., -0.8275, -0.8275, -0.8196],\n",
      "          [-0.7725, -0.7647, -0.7647,  ..., -0.8353, -0.8275, -0.8196],\n",
      "          [-0.7569, -0.7569, -0.7647,  ..., -0.8196, -0.8196, -0.8196]],\n",
      "\n",
      "         [[-0.8510, -0.8431, -0.8431,  ..., -0.8196, -0.8039, -0.8196],\n",
      "          [-0.8431, -0.8510, -0.8510,  ..., -0.8196, -0.7961, -0.8039],\n",
      "          [-0.8353, -0.8431, -0.8510,  ..., -0.8118, -0.7882, -0.7961],\n",
      "          ...,\n",
      "          [-0.7804, -0.7725, -0.7725,  ..., -0.8275, -0.8275, -0.8196],\n",
      "          [-0.7725, -0.7647, -0.7647,  ..., -0.8353, -0.8275, -0.8196],\n",
      "          [-0.7569, -0.7569, -0.7647,  ..., -0.8196, -0.8196, -0.8196]],\n",
      "\n",
      "         [[-0.8510, -0.8431, -0.8431,  ..., -0.8196, -0.8039, -0.8196],\n",
      "          [-0.8431, -0.8510, -0.8510,  ..., -0.8196, -0.7961, -0.8039],\n",
      "          [-0.8353, -0.8431, -0.8510,  ..., -0.8118, -0.7882, -0.7961],\n",
      "          ...,\n",
      "          [-0.7804, -0.7725, -0.7725,  ..., -0.8275, -0.8275, -0.8196],\n",
      "          [-0.7725, -0.7647, -0.7647,  ..., -0.8353, -0.8275, -0.8196],\n",
      "          [-0.7569, -0.7569, -0.7647,  ..., -0.8196, -0.8196, -0.8196]]],\n",
      "\n",
      "\n",
      "        ...,\n",
      "\n",
      "\n",
      "        [[[ 0.4588,  0.4510,  0.4353,  ..., -0.4039, -0.4118, -0.4196],\n",
      "          [ 0.4824,  0.4667,  0.4510,  ..., -0.3961, -0.4039, -0.4118],\n",
      "          [ 0.5059,  0.4902,  0.4824,  ..., -0.3961, -0.3961, -0.4039],\n",
      "          ...,\n",
      "          [-0.9137, -0.9137, -0.9137,  ..., -0.9216, -0.9294, -0.9373],\n",
      "          [-0.9216, -0.9216, -0.9216,  ..., -0.9216, -0.9294, -0.9373],\n",
      "          [-0.9294, -0.9294, -0.9294,  ..., -0.9294, -0.9373, -0.9373]],\n",
      "\n",
      "         [[ 0.8039,  0.7961,  0.7882,  ..., -0.1059, -0.0902, -0.0824],\n",
      "          [ 0.8118,  0.8039,  0.7961,  ..., -0.1137, -0.0824, -0.0745],\n",
      "          [ 0.8275,  0.8196,  0.8118,  ..., -0.1137, -0.0745, -0.0588],\n",
      "          ...,\n",
      "          [-0.8039, -0.8118, -0.8196,  ..., -0.8667, -0.8745, -0.8824],\n",
      "          [-0.8118, -0.8196, -0.8275,  ..., -0.8745, -0.8824, -0.8902],\n",
      "          [-0.8196, -0.8275, -0.8353,  ..., -0.8824, -0.8902, -0.8902]],\n",
      "\n",
      "         [[ 0.9137,  0.9059,  0.8980,  ...,  0.2000,  0.2314,  0.2549],\n",
      "          [ 0.9216,  0.9137,  0.8980,  ...,  0.1922,  0.2392,  0.2627],\n",
      "          [ 0.9216,  0.9216,  0.9059,  ...,  0.1922,  0.2549,  0.2784],\n",
      "          ...,\n",
      "          [-0.9137, -0.9137, -0.9216,  ..., -0.9686, -0.9765, -0.9843],\n",
      "          [-0.9216, -0.9216, -0.9294,  ..., -0.9765, -0.9843, -0.9922],\n",
      "          [-0.9294, -0.9294, -0.9373,  ..., -0.9843, -0.9922, -0.9922]]],\n",
      "\n",
      "\n",
      "        [[[ 0.8353,  0.7804,  0.7333,  ...,  0.7961,  0.7961,  0.7961],\n",
      "          [ 0.8431,  0.7804,  0.7333,  ...,  0.7961,  0.7961,  0.7961],\n",
      "          [ 0.8196,  0.7725,  0.7333,  ...,  0.7882,  0.7882,  0.7882],\n",
      "          ...,\n",
      "          [-0.9843, -0.9765, -0.9765,  ..., -0.9765, -0.9765, -0.9765],\n",
      "          [-0.9843, -0.9765, -0.9765,  ..., -0.9765, -0.9765, -0.9765],\n",
      "          [-0.9843, -0.9765, -0.9765,  ..., -0.9843, -0.9843, -0.9843]],\n",
      "\n",
      "         [[ 0.9843,  0.9765,  0.9686,  ...,  0.9686,  0.9686,  0.9686],\n",
      "          [ 0.9843,  0.9686,  0.9608,  ...,  0.9686,  0.9686,  0.9686],\n",
      "          [ 0.9765,  0.9686,  0.9608,  ...,  0.9686,  0.9686,  0.9686],\n",
      "          ...,\n",
      "          [-0.9765, -0.9765, -0.9765,  ..., -0.9608, -0.9608, -0.9608],\n",
      "          [-0.9765, -0.9765, -0.9765,  ..., -0.9608, -0.9608, -0.9608],\n",
      "          [-0.9765, -0.9765, -0.9765,  ..., -0.9686, -0.9686, -0.9686]],\n",
      "\n",
      "         [[ 0.9922,  0.9765,  0.9608,  ...,  0.9686,  0.9686,  0.9686],\n",
      "          [ 0.9922,  0.9686,  0.9608,  ...,  0.9686,  0.9686,  0.9686],\n",
      "          [ 0.9843,  0.9686,  0.9608,  ...,  0.9686,  0.9686,  0.9686],\n",
      "          ...,\n",
      "          [-0.9843, -0.9765, -0.9765,  ..., -0.9843, -0.9843, -0.9843],\n",
      "          [-0.9843, -0.9765, -0.9765,  ..., -0.9843, -0.9843, -0.9843],\n",
      "          [-0.9843, -0.9765, -0.9765,  ..., -0.9922, -0.9922, -0.9922]]],\n",
      "\n",
      "\n",
      "        [[[ 0.3961,  0.4039,  0.4118,  ...,  0.8824,  0.8824,  0.8824],\n",
      "          [ 0.3961,  0.4039,  0.4118,  ...,  0.8902,  0.8902,  0.8902],\n",
      "          [ 0.3961,  0.3961,  0.4039,  ...,  0.8980,  0.8980,  0.8980],\n",
      "          ...,\n",
      "          [ 0.7569,  0.7569,  0.7569,  ..., -0.6157, -0.6000, -0.5922],\n",
      "          [ 0.7333,  0.7020,  0.6706,  ..., -0.6078, -0.6000, -0.6000],\n",
      "          [ 0.7176,  0.6706,  0.6078,  ..., -0.6078, -0.6000, -0.6000]],\n",
      "\n",
      "         [[ 0.8745,  0.8745,  0.8824,  ...,  0.9843,  0.9765,  0.9765],\n",
      "          [ 0.8824,  0.8824,  0.8824,  ...,  0.9843,  0.9765,  0.9765],\n",
      "          [ 0.8902,  0.8902,  0.8824,  ...,  0.9843,  0.9843,  0.9843],\n",
      "          ...,\n",
      "          [ 0.6863,  0.6941,  0.7020,  ..., -0.4431, -0.4275, -0.4196],\n",
      "          [ 0.6706,  0.6549,  0.6392,  ..., -0.4353, -0.4275, -0.4275],\n",
      "          [ 0.6549,  0.6314,  0.5922,  ..., -0.4353, -0.4275, -0.4275]],\n",
      "\n",
      "         [[ 0.8980,  0.8980,  0.9059,  ...,  0.9765,  0.9686,  0.9686],\n",
      "          [ 0.8980,  0.8980,  0.9059,  ...,  0.9765,  0.9686,  0.9686],\n",
      "          [ 0.9059,  0.9059,  0.9137,  ...,  0.9765,  0.9765,  0.9765],\n",
      "          ...,\n",
      "          [ 0.3882,  0.3804,  0.3725,  ..., -0.4980, -0.4980, -0.4980],\n",
      "          [ 0.3647,  0.3412,  0.3020,  ..., -0.4902, -0.4980, -0.4980],\n",
      "          [ 0.3490,  0.3098,  0.2549,  ..., -0.4902, -0.4980, -0.4980]]]])]\n"
     ]
    }
   ],
   "source": [
    "for data in dataset.train_dataloader():\n",
    "    print(data)\n",
    "    break"
   ]
  },
  {
   "cell_type": "code",
   "execution_count": null,
   "metadata": {},
   "outputs": [],
   "source": []
  }
 ],
 "metadata": {
  "kernelspec": {
   "display_name": "Python 3.9.15 64-bit",
   "language": "python",
   "name": "python3"
  },
  "language_info": {
   "codemirror_mode": {
    "name": "ipython",
    "version": 3
   },
   "file_extension": ".py",
   "mimetype": "text/x-python",
   "name": "python",
   "nbconvert_exporter": "python",
   "pygments_lexer": "ipython3",
   "version": "3.9.15"
  },
  "orig_nbformat": 4,
  "vscode": {
   "interpreter": {
    "hash": "f9f85f796d01129d0dd105a088854619f454435301f6ffec2fea96ecbd9be4ac"
   }
  }
 },
 "nbformat": 4,
 "nbformat_minor": 2
}
