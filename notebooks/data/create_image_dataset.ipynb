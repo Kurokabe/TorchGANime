{
 "cells": [
  {
   "cell_type": "code",
   "execution_count": 1,
   "id": "8d76abef-1339-4587-9847-451882cf2cb0",
   "metadata": {},
   "outputs": [],
   "source": [
    "import os\n",
    "import cv2\n",
    "import glob\n",
    "import tarfile\n",
    "import tempfile\n",
    "import numpy as np\n",
    "import time\n",
    "import skvideo.io\n",
    "from tqdm.auto import tqdm\n",
    "import torch\n",
    "from torchvision.utils import save_image"
   ]
  },
  {
   "cell_type": "code",
   "execution_count": 4,
   "id": "e7585ba1-b79c-4170-9814-b8985038a559",
   "metadata": {},
   "outputs": [],
   "source": [
    "os.chdir(\"../../data/snk/raw_videos\")"
   ]
  },
  {
   "cell_type": "code",
   "execution_count": 3,
   "id": "da4ba375-a842-4ca9-9f50-813011d81431",
   "metadata": {},
   "outputs": [],
   "source": [
    "every_n = 5"
   ]
  },
  {
   "cell_type": "code",
   "execution_count": 4,
   "id": "46012312-2933-47a4-a5f4-7d6b7e14d836",
   "metadata": {},
   "outputs": [],
   "source": [
    "video_paths = sorted(glob.glob(\"*.mkv\"))"
   ]
  },
  {
   "cell_type": "code",
   "execution_count": 5,
   "id": "c465fa01-250a-4df5-bfb2-197bf3943765",
   "metadata": {},
   "outputs": [],
   "source": [
    "def write_video_as_images(video, directory):\n",
    "    for i, image in tqdm(enumerate(video)):\n",
    "        # skvideo.io.vwrite(os.path.join(directory, f\"{i}.png\"), image)\n",
    "        save_image(torch.permute(torch.tensor(image), (2, 0, 1)) / 255.0, os.path.join(directory, f\"{i}.png\"))"
   ]
  },
  {
   "cell_type": "code",
   "execution_count": 6,
   "id": "13e43a01-2217-438e-be67-e20fbd0e9c80",
   "metadata": {},
   "outputs": [],
   "source": [
    "def create_tar(directory, save_folder):\n",
    "    tar = tarfile.open(f\"{save_folder}.tar.gz\", \"w:gz\")\n",
    "    for i, name in enumerate(sorted(glob.glob(os.path.join(directory, \"*\")))):\n",
    "        tar.add(name, arcname=f\"{i}.png\")\n",
    "    tar.close()"
   ]
  },
  {
   "cell_type": "code",
   "execution_count": 7,
   "id": "8c0ffc04-0fc7-4894-ae7f-62c2c7203342",
   "metadata": {
    "tags": []
   },
   "outputs": [
    {
     "data": {
      "application/vnd.jupyter.widget-view+json": {
       "model_id": "757492536b6141eaa0c81e9621a13d99",
       "version_major": 2,
       "version_minor": 0
      },
      "text/plain": [
       "0it [00:00, ?it/s]"
      ]
     },
     "metadata": {},
     "output_type": "display_data"
    },
    {
     "data": {
      "application/vnd.jupyter.widget-view+json": {
       "model_id": "d8c293d218bc42ce926071f8a9648446",
       "version_major": 2,
       "version_minor": 0
      },
      "text/plain": [
       "0it [00:00, ?it/s]"
      ]
     },
     "metadata": {},
     "output_type": "display_data"
    },
    {
     "data": {
      "application/vnd.jupyter.widget-view+json": {
       "model_id": "b2db8831b74c4701866e4a7e8b6cac05",
       "version_major": 2,
       "version_minor": 0
      },
      "text/plain": [
       "0it [00:00, ?it/s]"
      ]
     },
     "metadata": {},
     "output_type": "display_data"
    },
    {
     "data": {
      "application/vnd.jupyter.widget-view+json": {
       "model_id": "d134ad7450ef4552a9657d94849988d9",
       "version_major": 2,
       "version_minor": 0
      },
      "text/plain": [
       "0it [00:00, ?it/s]"
      ]
     },
     "metadata": {},
     "output_type": "display_data"
    },
    {
     "data": {
      "application/vnd.jupyter.widget-view+json": {
       "model_id": "1c9c14a707d643b2abc9031144bdb21c",
       "version_major": 2,
       "version_minor": 0
      },
      "text/plain": [
       "0it [00:00, ?it/s]"
      ]
     },
     "metadata": {},
     "output_type": "display_data"
    },
    {
     "data": {
      "application/vnd.jupyter.widget-view+json": {
       "model_id": "55bd45ed97904e9995a4d297efc586f3",
       "version_major": 2,
       "version_minor": 0
      },
      "text/plain": [
       "0it [00:00, ?it/s]"
      ]
     },
     "metadata": {},
     "output_type": "display_data"
    },
    {
     "data": {
      "application/vnd.jupyter.widget-view+json": {
       "model_id": "f0ae5dbc31dd46a58a5bc80b7a6e44cd",
       "version_major": 2,
       "version_minor": 0
      },
      "text/plain": [
       "0it [00:00, ?it/s]"
      ]
     },
     "metadata": {},
     "output_type": "display_data"
    },
    {
     "data": {
      "application/vnd.jupyter.widget-view+json": {
       "model_id": "b741329b6c934d18a36e527bbcf7e374",
       "version_major": 2,
       "version_minor": 0
      },
      "text/plain": [
       "0it [00:00, ?it/s]"
      ]
     },
     "metadata": {},
     "output_type": "display_data"
    },
    {
     "data": {
      "application/vnd.jupyter.widget-view+json": {
       "model_id": "8cb600e578df422cac5022ecfc698d02",
       "version_major": 2,
       "version_minor": 0
      },
      "text/plain": [
       "0it [00:00, ?it/s]"
      ]
     },
     "metadata": {},
     "output_type": "display_data"
    },
    {
     "data": {
      "application/vnd.jupyter.widget-view+json": {
       "model_id": "15481be54bc7460b93b9a2c9dcb9281f",
       "version_major": 2,
       "version_minor": 0
      },
      "text/plain": [
       "0it [00:00, ?it/s]"
      ]
     },
     "metadata": {},
     "output_type": "display_data"
    },
    {
     "data": {
      "application/vnd.jupyter.widget-view+json": {
       "model_id": "d3f636c78d3744d0a5b798b2dc4d755e",
       "version_major": 2,
       "version_minor": 0
      },
      "text/plain": [
       "0it [00:00, ?it/s]"
      ]
     },
     "metadata": {},
     "output_type": "display_data"
    },
    {
     "data": {
      "application/vnd.jupyter.widget-view+json": {
       "model_id": "decaa01a1e1c492194475f0836e9d3c1",
       "version_major": 2,
       "version_minor": 0
      },
      "text/plain": [
       "0it [00:00, ?it/s]"
      ]
     },
     "metadata": {},
     "output_type": "display_data"
    },
    {
     "data": {
      "application/vnd.jupyter.widget-view+json": {
       "model_id": "ae2611d90cd1450b8df230a2e49e5625",
       "version_major": 2,
       "version_minor": 0
      },
      "text/plain": [
       "0it [00:00, ?it/s]"
      ]
     },
     "metadata": {},
     "output_type": "display_data"
    },
    {
     "data": {
      "application/vnd.jupyter.widget-view+json": {
       "model_id": "2cc0efdd108d4db3a49d62a77d5691d0",
       "version_major": 2,
       "version_minor": 0
      },
      "text/plain": [
       "0it [00:00, ?it/s]"
      ]
     },
     "metadata": {},
     "output_type": "display_data"
    },
    {
     "data": {
      "application/vnd.jupyter.widget-view+json": {
       "model_id": "a16a4a74f76b4b2abb3382d6ccc795d6",
       "version_major": 2,
       "version_minor": 0
      },
      "text/plain": [
       "0it [00:00, ?it/s]"
      ]
     },
     "metadata": {},
     "output_type": "display_data"
    },
    {
     "data": {
      "application/vnd.jupyter.widget-view+json": {
       "model_id": "5dea4679967f48b6a730951367998f28",
       "version_major": 2,
       "version_minor": 0
      },
      "text/plain": [
       "0it [00:00, ?it/s]"
      ]
     },
     "metadata": {},
     "output_type": "display_data"
    },
    {
     "data": {
      "application/vnd.jupyter.widget-view+json": {
       "model_id": "77a26d0f65104defbb5c2d12fe9c345c",
       "version_major": 2,
       "version_minor": 0
      },
      "text/plain": [
       "0it [00:00, ?it/s]"
      ]
     },
     "metadata": {},
     "output_type": "display_data"
    },
    {
     "data": {
      "application/vnd.jupyter.widget-view+json": {
       "model_id": "8e4206395a974e6ebcd7bfbf9ecc9471",
       "version_major": 2,
       "version_minor": 0
      },
      "text/plain": [
       "0it [00:00, ?it/s]"
      ]
     },
     "metadata": {},
     "output_type": "display_data"
    },
    {
     "data": {
      "application/vnd.jupyter.widget-view+json": {
       "model_id": "a02665a11a914da9a1f6177817af084a",
       "version_major": 2,
       "version_minor": 0
      },
      "text/plain": [
       "0it [00:00, ?it/s]"
      ]
     },
     "metadata": {},
     "output_type": "display_data"
    },
    {
     "data": {
      "application/vnd.jupyter.widget-view+json": {
       "model_id": "d6fbac9a0986429b95ed9bceddebd683",
       "version_major": 2,
       "version_minor": 0
      },
      "text/plain": [
       "0it [00:00, ?it/s]"
      ]
     },
     "metadata": {},
     "output_type": "display_data"
    },
    {
     "data": {
      "application/vnd.jupyter.widget-view+json": {
       "model_id": "45a17ed701ff4d07b236ad6cbe52b6e5",
       "version_major": 2,
       "version_minor": 0
      },
      "text/plain": [
       "0it [00:00, ?it/s]"
      ]
     },
     "metadata": {},
     "output_type": "display_data"
    },
    {
     "data": {
      "application/vnd.jupyter.widget-view+json": {
       "model_id": "06180340840f453abdaf2d82efc8d4db",
       "version_major": 2,
       "version_minor": 0
      },
      "text/plain": [
       "0it [00:00, ?it/s]"
      ]
     },
     "metadata": {},
     "output_type": "display_data"
    },
    {
     "data": {
      "application/vnd.jupyter.widget-view+json": {
       "model_id": "88639dfe86c24222bce066cfded2c7c9",
       "version_major": 2,
       "version_minor": 0
      },
      "text/plain": [
       "0it [00:00, ?it/s]"
      ]
     },
     "metadata": {},
     "output_type": "display_data"
    },
    {
     "data": {
      "application/vnd.jupyter.widget-view+json": {
       "model_id": "55798334203247bab75797a10d5fc59f",
       "version_major": 2,
       "version_minor": 0
      },
      "text/plain": [
       "0it [00:00, ?it/s]"
      ]
     },
     "metadata": {},
     "output_type": "display_data"
    },
    {
     "data": {
      "application/vnd.jupyter.widget-view+json": {
       "model_id": "afce2270b0f248b7980f6423f92e857a",
       "version_major": 2,
       "version_minor": 0
      },
      "text/plain": [
       "0it [00:00, ?it/s]"
      ]
     },
     "metadata": {},
     "output_type": "display_data"
    },
    {
     "data": {
      "application/vnd.jupyter.widget-view+json": {
       "model_id": "ab490c8372bd416ea7a00d51eb66291f",
       "version_major": 2,
       "version_minor": 0
      },
      "text/plain": [
       "0it [00:00, ?it/s]"
      ]
     },
     "metadata": {},
     "output_type": "display_data"
    },
    {
     "data": {
      "application/vnd.jupyter.widget-view+json": {
       "model_id": "3ebf4cd4004c4be0b6b9662f0c40c2c1",
       "version_major": 2,
       "version_minor": 0
      },
      "text/plain": [
       "0it [00:00, ?it/s]"
      ]
     },
     "metadata": {},
     "output_type": "display_data"
    },
    {
     "ename": "RuntimeError",
     "evalue": "",
     "output_type": "error",
     "traceback": [
      "\u001b[0;31m---------------------------------------------------------------------------\u001b[0m",
      "\u001b[0;31mAssertionError\u001b[0m                            Traceback (most recent call last)",
      "File \u001b[0;32m/usr/local/lib/python3.9/dist-packages/skvideo/io/ffmpeg.py:271\u001b[0m, in \u001b[0;36mFFmpegReader._read_frame_data\u001b[0;34m(self)\u001b[0m\n\u001b[1;32m    270\u001b[0m     arr \u001b[38;5;241m=\u001b[39m np\u001b[38;5;241m.\u001b[39mfromstring(\u001b[38;5;28mself\u001b[39m\u001b[38;5;241m.\u001b[39m_proc\u001b[38;5;241m.\u001b[39mstdout\u001b[38;5;241m.\u001b[39mread(framesize), dtype\u001b[38;5;241m=\u001b[39mnp\u001b[38;5;241m.\u001b[39muint8)\n\u001b[0;32m--> 271\u001b[0m     \u001b[38;5;28;01massert\u001b[39;00m \u001b[38;5;28mlen\u001b[39m(arr) \u001b[38;5;241m==\u001b[39m framesize\n\u001b[1;32m    272\u001b[0m \u001b[38;5;28;01mexcept\u001b[39;00m \u001b[38;5;167;01mException\u001b[39;00m \u001b[38;5;28;01mas\u001b[39;00m err:\n",
      "\u001b[0;31mAssertionError\u001b[0m: ",
      "\nDuring handling of the above exception, another exception occurred:\n",
      "\u001b[0;31mRuntimeError\u001b[0m                              Traceback (most recent call last)",
      "Cell \u001b[0;32mIn [7], line 5\u001b[0m\n\u001b[1;32m      3\u001b[0m save_folder \u001b[38;5;241m=\u001b[39m \u001b[38;5;124mf\u001b[39m\u001b[38;5;124m\"\u001b[39m\u001b[38;5;124m../images/\u001b[39m\u001b[38;5;132;01m{\u001b[39;00mi\u001b[38;5;241m+\u001b[39m\u001b[38;5;241m1\u001b[39m\u001b[38;5;132;01m:\u001b[39;00m\u001b[38;5;124m02d\u001b[39m\u001b[38;5;132;01m}\u001b[39;00m\u001b[38;5;124m\"\u001b[39m\n\u001b[1;32m      4\u001b[0m \u001b[38;5;66;03m# cap = cv2.VideoCapture(video_path)\u001b[39;00m\n\u001b[0;32m----> 5\u001b[0m video \u001b[38;5;241m=\u001b[39m \u001b[43mskvideo\u001b[49m\u001b[38;5;241;43m.\u001b[39;49m\u001b[43mio\u001b[49m\u001b[38;5;241;43m.\u001b[39;49m\u001b[43mvread\u001b[49m\u001b[43m(\u001b[49m\u001b[43mvideo_path\u001b[49m\u001b[43m)\u001b[49m\n\u001b[1;32m      6\u001b[0m \u001b[38;5;28;01mwith\u001b[39;00m tempfile\u001b[38;5;241m.\u001b[39mTemporaryDirectory() \u001b[38;5;28;01mas\u001b[39;00m tmpdirname:\n\u001b[1;32m      7\u001b[0m     write_video_as_images(video[::every_n], tmpdirname)\n",
      "File \u001b[0;32m/usr/local/lib/python3.9/dist-packages/skvideo/io/io.py:148\u001b[0m, in \u001b[0;36mvread\u001b[0;34m(fname, height, width, num_frames, as_grey, inputdict, outputdict, backend, verbosity)\u001b[0m\n\u001b[1;32m    145\u001b[0m T, M, N, C \u001b[38;5;241m=\u001b[39m reader\u001b[38;5;241m.\u001b[39mgetShape()\n\u001b[1;32m    147\u001b[0m videodata \u001b[38;5;241m=\u001b[39m np\u001b[38;5;241m.\u001b[39mzeros((T, M, N, C), dtype\u001b[38;5;241m=\u001b[39mnp\u001b[38;5;241m.\u001b[39muint8)\n\u001b[0;32m--> 148\u001b[0m \u001b[38;5;28;01mfor\u001b[39;00m idx, frame \u001b[38;5;129;01min\u001b[39;00m \u001b[38;5;28menumerate\u001b[39m(reader\u001b[38;5;241m.\u001b[39mnextFrame()):\n\u001b[1;32m    149\u001b[0m     videodata[idx, :, :, :] \u001b[38;5;241m=\u001b[39m frame\n\u001b[1;32m    151\u001b[0m \u001b[38;5;28;01mif\u001b[39;00m as_grey: \n",
      "File \u001b[0;32m/usr/local/lib/python3.9/dist-packages/skvideo/io/ffmpeg.py:297\u001b[0m, in \u001b[0;36mFFmpegReader.nextFrame\u001b[0;34m(self)\u001b[0m\n\u001b[1;32m    290\u001b[0m \u001b[38;5;124;03m\"\"\"Yields frames using a generator \u001b[39;00m\n\u001b[1;32m    291\u001b[0m \u001b[38;5;124;03m\u001b[39;00m\n\u001b[1;32m    292\u001b[0m \u001b[38;5;124;03mReturns T ndarrays of size (M, N, C), where T is number of frames, \u001b[39;00m\n\u001b[1;32m    293\u001b[0m \u001b[38;5;124;03mM is height, N is width, and C is number of channels per pixel.\u001b[39;00m\n\u001b[1;32m    294\u001b[0m \n\u001b[1;32m    295\u001b[0m \u001b[38;5;124;03m\"\"\"\u001b[39;00m\n\u001b[1;32m    296\u001b[0m \u001b[38;5;28;01mfor\u001b[39;00m i \u001b[38;5;129;01min\u001b[39;00m \u001b[38;5;28mrange\u001b[39m(\u001b[38;5;28mself\u001b[39m\u001b[38;5;241m.\u001b[39minputframenum):\n\u001b[0;32m--> 297\u001b[0m     \u001b[38;5;28;01myield\u001b[39;00m \u001b[38;5;28;43mself\u001b[39;49m\u001b[38;5;241;43m.\u001b[39;49m\u001b[43m_readFrame\u001b[49m\u001b[43m(\u001b[49m\u001b[43m)\u001b[49m\n",
      "File \u001b[0;32m/usr/local/lib/python3.9/dist-packages/skvideo/io/ffmpeg.py:281\u001b[0m, in \u001b[0;36mFFmpegReader._readFrame\u001b[0;34m(self)\u001b[0m\n\u001b[1;32m    278\u001b[0m \u001b[38;5;28;01mdef\u001b[39;00m \u001b[38;5;21m_readFrame\u001b[39m(\u001b[38;5;28mself\u001b[39m):\n\u001b[1;32m    279\u001b[0m     \u001b[38;5;66;03m# Read and convert to numpy array\u001b[39;00m\n\u001b[1;32m    280\u001b[0m     \u001b[38;5;66;03m# t0 = time.time()\u001b[39;00m\n\u001b[0;32m--> 281\u001b[0m     s \u001b[38;5;241m=\u001b[39m \u001b[38;5;28;43mself\u001b[39;49m\u001b[38;5;241;43m.\u001b[39;49m\u001b[43m_read_frame_data\u001b[49m\u001b[43m(\u001b[49m\u001b[43m)\u001b[49m\n\u001b[1;32m    282\u001b[0m     result \u001b[38;5;241m=\u001b[39m np\u001b[38;5;241m.\u001b[39mfromstring(s, dtype\u001b[38;5;241m=\u001b[39m\u001b[38;5;124m'\u001b[39m\u001b[38;5;124muint8\u001b[39m\u001b[38;5;124m'\u001b[39m)\n\u001b[1;32m    284\u001b[0m     result \u001b[38;5;241m=\u001b[39m result\u001b[38;5;241m.\u001b[39mreshape((\u001b[38;5;28mself\u001b[39m\u001b[38;5;241m.\u001b[39moutputheight, \u001b[38;5;28mself\u001b[39m\u001b[38;5;241m.\u001b[39moutputwidth, \u001b[38;5;28mself\u001b[39m\u001b[38;5;241m.\u001b[39moutputdepth))\n",
      "File \u001b[0;32m/usr/local/lib/python3.9/dist-packages/skvideo/io/ffmpeg.py:275\u001b[0m, in \u001b[0;36mFFmpegReader._read_frame_data\u001b[0;34m(self)\u001b[0m\n\u001b[1;32m    273\u001b[0m     \u001b[38;5;28mself\u001b[39m\u001b[38;5;241m.\u001b[39m_terminate()\n\u001b[1;32m    274\u001b[0m     err1 \u001b[38;5;241m=\u001b[39m \u001b[38;5;28mstr\u001b[39m(err)\n\u001b[0;32m--> 275\u001b[0m     \u001b[38;5;28;01mraise\u001b[39;00m \u001b[38;5;167;01mRuntimeError\u001b[39;00m(\u001b[38;5;124m\"\u001b[39m\u001b[38;5;132;01m%s\u001b[39;00m\u001b[38;5;124m\"\u001b[39m \u001b[38;5;241m%\u001b[39m (err1,))\n\u001b[1;32m    276\u001b[0m \u001b[38;5;28;01mreturn\u001b[39;00m arr\n",
      "\u001b[0;31mRuntimeError\u001b[0m: "
     ]
    }
   ],
   "source": [
    "os.makedirs(\"../images\", exist_ok=True)\n",
    "for i, video_path in tqdm(enumerate(video_paths)):\n",
    "    save_folder = f\"../images/{i+1:02d}\"\n",
    "    # cap = cv2.VideoCapture(video_path)\n",
    "    video = skvideo.io.vread(video_path)\n",
    "    with tempfile.TemporaryDirectory() as tmpdirname:\n",
    "        write_video_as_images(video[::every_n], tmpdirname)\n",
    "        create_tar(tmpdirname, save_folder)"
   ]
  },
  {
   "cell_type": "code",
   "execution_count": null,
   "id": "9c0141be-9bbd-42a2-a36c-58418b6f2259",
   "metadata": {},
   "outputs": [],
   "source": []
  }
 ],
 "metadata": {
  "kernelspec": {
   "display_name": "Python 3.9.15 64-bit",
   "language": "python",
   "name": "python3"
  },
  "language_info": {
   "codemirror_mode": {
    "name": "ipython",
    "version": 3
   },
   "file_extension": ".py",
   "mimetype": "text/x-python",
   "name": "python",
   "nbconvert_exporter": "python",
   "pygments_lexer": "ipython3",
   "version": "3.9.15"
  },
  "vscode": {
   "interpreter": {
    "hash": "f9f85f796d01129d0dd105a088854619f454435301f6ffec2fea96ecbd9be4ac"
   }
  }
 },
 "nbformat": 4,
 "nbformat_minor": 5
}
