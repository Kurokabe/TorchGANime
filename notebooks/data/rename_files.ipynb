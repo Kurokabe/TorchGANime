{
 "cells": [
  {
   "cell_type": "code",
   "execution_count": 1,
   "id": "cfc78887-6e61-428c-a7d0-307d9c0e1ae0",
   "metadata": {},
   "outputs": [],
   "source": [
    "import os"
   ]
  },
  {
   "cell_type": "code",
   "execution_count": 2,
   "id": "56279a78-4b80-4a01-a091-ca26e1d7b8bf",
   "metadata": {},
   "outputs": [],
   "source": [
    "os.chdir(\"../../data/kny/raw_videos\")"
   ]
  },
  {
   "cell_type": "code",
   "execution_count": 3,
   "id": "3a01d0f1-a014-4b80-80cc-39842825fff4",
   "metadata": {},
   "outputs": [],
   "source": [
    "import glob"
   ]
  },
  {
   "cell_type": "code",
   "execution_count": 4,
   "id": "831909ff-c166-4121-9b74-6bb3088feb4c",
   "metadata": {},
   "outputs": [],
   "source": [
    "for i, path in enumerate(sorted(glob.glob(\"*.mkv\"))):\n",
    "    os.rename(path, f\"{i+1:02d}.mkv\")"
   ]
  },
  {
   "cell_type": "code",
   "execution_count": null,
   "id": "83128040-41ec-46b4-a979-04c86dfc5416",
   "metadata": {},
   "outputs": [],
   "source": []
  }
 ],
 "metadata": {
  "kernelspec": {
   "display_name": "Python 3 (ipykernel)",
   "language": "python",
   "name": "python3"
  },
  "language_info": {
   "codemirror_mode": {
    "name": "ipython",
    "version": 3
   },
   "file_extension": ".py",
   "mimetype": "text/x-python",
   "name": "python",
   "nbconvert_exporter": "python",
   "pygments_lexer": "ipython3",
   "version": "3.9.15"
  }
 },
 "nbformat": 4,
 "nbformat_minor": 5
}
