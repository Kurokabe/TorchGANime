{
 "cells": [
  {
   "cell_type": "code",
   "execution_count": 2,
   "id": "cfc78887-6e61-428c-a7d0-307d9c0e1ae0",
   "metadata": {},
   "outputs": [],
   "source": [
    "import os"
   ]
  },
  {
   "cell_type": "code",
   "execution_count": 3,
   "id": "56279a78-4b80-4a01-a091-ca26e1d7b8bf",
   "metadata": {},
   "outputs": [],
   "source": [
    "os.chdir(\"../../data/snk/raw_videos\")"
   ]
  },
  {
   "cell_type": "code",
   "execution_count": 4,
   "id": "3a01d0f1-a014-4b80-80cc-39842825fff4",
   "metadata": {},
   "outputs": [],
   "source": [
    "import glob"
   ]
  },
  {
   "cell_type": "code",
   "execution_count": 4,
   "id": "831909ff-c166-4121-9b74-6bb3088feb4c",
   "metadata": {},
   "outputs": [],
   "source": [
    "for i, path in enumerate(sorted(glob.glob(\"*.mkv\"))):\n",
    "    os.rename(path, f\"{i+1:02d}.mkv\")"
   ]
  },
  {
   "cell_type": "code",
   "execution_count": 8,
   "id": "83128040-41ec-46b4-a979-04c86dfc5416",
   "metadata": {},
   "outputs": [],
   "source": [
    "paths = sorted(glob.glob(\"*].mkv\"))\n",
    "offset = 27\n",
    "for i, path in enumerate(paths):\n",
    "    os.rename(path, f\"{offset + i:02d}.mkv\")"
   ]
  },
  {
   "cell_type": "code",
   "execution_count": null,
   "id": "46ed5fb2",
   "metadata": {},
   "outputs": [],
   "source": []
  }
 ],
 "metadata": {
  "kernelspec": {
   "display_name": "Python 3.9.15 64-bit",
   "language": "python",
   "name": "python3"
  },
  "language_info": {
   "codemirror_mode": {
    "name": "ipython",
    "version": 3
   },
   "file_extension": ".py",
   "mimetype": "text/x-python",
   "name": "python",
   "nbconvert_exporter": "python",
   "pygments_lexer": "ipython3",
   "version": "3.9.15"
  },
  "vscode": {
   "interpreter": {
    "hash": "f9f85f796d01129d0dd105a088854619f454435301f6ffec2fea96ecbd9be4ac"
   }
  }
 },
 "nbformat": 4,
 "nbformat_minor": 5
}
