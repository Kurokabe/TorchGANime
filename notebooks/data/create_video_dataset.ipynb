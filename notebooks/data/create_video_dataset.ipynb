{
 "cells": [
  {
   "cell_type": "code",
   "execution_count": 2,
   "metadata": {},
   "outputs": [],
   "source": [
    "%load_ext autoreload\n",
    "%autoreload 2"
   ]
  },
  {
   "cell_type": "code",
   "execution_count": 3,
   "metadata": {},
   "outputs": [],
   "source": [
    "import sys\n",
    "sys.path.append(\"../../\")"
   ]
  },
  {
   "cell_type": "code",
   "execution_count": 4,
   "metadata": {},
   "outputs": [
    {
     "name": "stderr",
     "output_type": "stream",
     "text": [
      "/usr/local/lib/python3.9/dist-packages/torchvision/transforms/_functional_video.py:6: UserWarning: The 'torchvision.transforms._functional_video' module is deprecated since 0.12 and will be removed in the future. Please use the 'torchvision.transforms.functional' module instead.\n",
      "  warnings.warn(\n",
      "/usr/local/lib/python3.9/dist-packages/torchvision/transforms/_transforms_video.py:22: UserWarning: The 'torchvision.transforms._transforms_video' module is deprecated since 0.12 and will be removed in the future. Please use the 'torchvision.transforms' module instead.\n",
      "  warnings.warn(\n"
     ]
    }
   ],
   "source": [
    "from torchganime.data.dataset.video import SceneDataset\n",
    "from torchganime.data.dataloader.video import VideoData\n",
    "from pytorchvideo.transforms import Permute, Normalize\n",
    "from torchvision import transforms"
   ]
  },
  {
   "cell_type": "code",
   "execution_count": 5,
   "metadata": {},
   "outputs": [
    {
     "name": "stderr",
     "output_type": "stream",
     "text": [
      "2022-12-28 14:27:43.079 | INFO     | torchganime.data.dataset.video:_get_video_paths:365 - Found 1 videos\n"
     ]
    }
   ],
   "source": [
    "vd = SceneDataset(\n",
    "    [\"../../data/snk/raw_videos/01.mkv\"], \n",
    "    transform=transforms.Compose([\n",
    "        Permute((3, 0, 1, 2)), \n",
    "        transforms.Resize((128, 256))\n",
    "        # Normalize((0.5, 0.5, 0.5), (0.5, 0.5, 0.5))\n",
    "        ]\n",
    "        ),\n",
    "    recursive=True, \n",
    "    show_progress=True,\n",
    "    min_max_len=(15, 25),\n",
    "    detector=\"content\", \n",
    "    threshold=15, \n",
    "    min_scene_len=15, \n",
    "    )"
   ]
  },
  {
   "cell_type": "code",
   "execution_count": 6,
   "metadata": {},
   "outputs": [
    {
     "data": {
      "text/plain": [
       "torch.Size([3, 15, 128, 256])"
      ]
     },
     "execution_count": 6,
     "metadata": {},
     "output_type": "execute_result"
    }
   ],
   "source": [
    "vd[0].shape"
   ]
  },
  {
   "cell_type": "code",
   "execution_count": 5,
   "metadata": {},
   "outputs": [
    {
     "name": "stderr",
     "output_type": "stream",
     "text": [
      "2022-12-30 11:39:00.918 | INFO     | torchganime.data.dataset.video:_get_video_paths:365 - Found 1 videos\n",
      "2022-12-30 11:39:01.024 | INFO     | torchganime.data.dataset.video:_get_video_paths:365 - Found 1 videos\n"
     ]
    }
   ],
   "source": [
    "dataloader = VideoData(\"../../data/snk/raw_videos/01.mkv\", \"../../data/snk/raw_videos/02.mkv\", image_size=(128, 256), batch_size=8, num_workers=16)"
   ]
  },
  {
   "cell_type": "code",
   "execution_count": 23,
   "metadata": {},
   "outputs": [
    {
     "name": "stdout",
     "output_type": "stream",
     "text": [
      "tensor([24, 17, 20, 19, 20, 19, 20, 23])\n",
      "torch.Size([8, 3, 128, 256])\n",
      "torch.Size([8, 3, 128, 256])\n",
      "torch.Size([8, 3, 24, 128, 256])\n",
      "tensor([20, 22, 24, 20, 19, 16, 20, 18])\n",
      "torch.Size([8, 3, 128, 256])\n",
      "torch.Size([8, 3, 128, 256])\n",
      "torch.Size([8, 3, 24, 128, 256])\n",
      "tensor([17, 22, 18, 18, 17, 18, 24, 19])\n",
      "torch.Size([8, 3, 128, 256])\n",
      "torch.Size([8, 3, 128, 256])\n",
      "torch.Size([8, 3, 24, 128, 256])\n",
      "tensor([16, 15, 17, 24, 15, 22, 20, 17])\n",
      "torch.Size([8, 3, 128, 256])\n",
      "torch.Size([8, 3, 128, 256])\n",
      "torch.Size([8, 3, 24, 128, 256])\n",
      "tensor([21, 16, 24, 24, 20, 15, 17, 15])\n",
      "torch.Size([8, 3, 128, 256])\n",
      "torch.Size([8, 3, 128, 256])\n",
      "torch.Size([8, 3, 24, 128, 256])\n",
      "tensor([20, 16, 24, 20, 15, 24, 24, 16])\n",
      "torch.Size([8, 3, 128, 256])\n",
      "torch.Size([8, 3, 128, 256])\n",
      "torch.Size([8, 3, 24, 128, 256])\n",
      "tensor([18, 18, 18, 20, 15, 24, 20, 16])\n",
      "torch.Size([8, 3, 128, 256])\n",
      "torch.Size([8, 3, 128, 256])\n",
      "torch.Size([8, 3, 24, 128, 256])\n",
      "tensor([17, 21, 16, 16, 15, 15, 19, 24])\n",
      "torch.Size([8, 3, 128, 256])\n",
      "torch.Size([8, 3, 128, 256])\n",
      "torch.Size([8, 3, 24, 128, 256])\n",
      "tensor([15, 21, 17, 20, 15, 22, 20, 17])\n",
      "torch.Size([8, 3, 128, 256])\n",
      "torch.Size([8, 3, 128, 256])\n",
      "torch.Size([8, 3, 22, 128, 256])\n",
      "tensor([24, 23, 17, 21, 23, 21, 15, 18])\n",
      "torch.Size([8, 3, 128, 256])\n",
      "torch.Size([8, 3, 128, 256])\n",
      "torch.Size([8, 3, 24, 128, 256])\n",
      "tensor([23, 24, 18, 20, 29, 17, 24, 24])\n",
      "torch.Size([8, 3, 128, 256])\n",
      "torch.Size([8, 3, 128, 256])\n",
      "torch.Size([8, 3, 29, 128, 256])\n",
      "tensor([17, 20, 15, 21, 24, 18, 18, 19])\n",
      "torch.Size([8, 3, 128, 256])\n",
      "torch.Size([8, 3, 128, 256])\n",
      "torch.Size([8, 3, 24, 128, 256])\n",
      "tensor([18, 20, 22, 15, 19, 23, 17, 15])\n",
      "torch.Size([8, 3, 128, 256])\n",
      "torch.Size([8, 3, 128, 256])\n",
      "torch.Size([8, 3, 23, 128, 256])\n",
      "tensor([24, 24, 17, 15, 17, 24, 23, 19])\n",
      "torch.Size([8, 3, 128, 256])\n",
      "torch.Size([8, 3, 128, 256])\n",
      "torch.Size([8, 3, 24, 128, 256])\n",
      "tensor([21, 16, 24, 24, 21, 24, 19, 20])\n",
      "torch.Size([8, 3, 128, 256])\n",
      "torch.Size([8, 3, 128, 256])\n",
      "torch.Size([8, 3, 24, 128, 256])\n",
      "tensor([24, 24, 24, 20, 25, 15, 15, 15])\n",
      "torch.Size([8, 3, 128, 256])\n",
      "torch.Size([8, 3, 128, 256])\n",
      "torch.Size([8, 3, 25, 128, 256])\n",
      "tensor([18, 24, 19, 17, 24, 17, 15, 15])\n",
      "torch.Size([8, 3, 128, 256])\n",
      "torch.Size([8, 3, 128, 256])\n",
      "torch.Size([8, 3, 24, 128, 256])\n",
      "tensor([21, 21, 20, 24, 24, 24, 15, 24])\n",
      "torch.Size([8, 3, 128, 256])\n",
      "torch.Size([8, 3, 128, 256])\n",
      "torch.Size([8, 3, 24, 128, 256])\n",
      "tensor([15, 15, 21, 22, 15, 20, 20, 23])\n",
      "torch.Size([8, 3, 128, 256])\n",
      "torch.Size([8, 3, 128, 256])\n",
      "torch.Size([8, 3, 23, 128, 256])\n",
      "tensor([24, 15, 20, 24, 24, 17, 27, 24])\n",
      "torch.Size([8, 3, 128, 256])\n",
      "torch.Size([8, 3, 128, 256])\n",
      "torch.Size([8, 3, 27, 128, 256])\n",
      "tensor([18, 22, 15, 15, 24, 24, 18, 18])\n",
      "torch.Size([8, 3, 128, 256])\n",
      "torch.Size([8, 3, 128, 256])\n",
      "torch.Size([8, 3, 24, 128, 256])\n",
      "tensor([24, 20, 15, 23, 18, 19, 15, 19])\n",
      "torch.Size([8, 3, 128, 256])\n",
      "torch.Size([8, 3, 128, 256])\n",
      "torch.Size([8, 3, 24, 128, 256])\n",
      "tensor([23, 24, 23, 19, 15, 15, 23, 15])\n",
      "torch.Size([8, 3, 128, 256])\n",
      "torch.Size([8, 3, 128, 256])\n",
      "torch.Size([8, 3, 24, 128, 256])\n",
      "tensor([22, 24, 19, 23, 24, 15, 22, 21])\n",
      "torch.Size([8, 3, 128, 256])\n",
      "torch.Size([8, 3, 128, 256])\n",
      "torch.Size([8, 3, 24, 128, 256])\n",
      "tensor([22, 17, 18, 24, 23, 24, 19, 27])\n",
      "torch.Size([8, 3, 128, 256])\n",
      "torch.Size([8, 3, 128, 256])\n",
      "torch.Size([8, 3, 27, 128, 256])\n",
      "tensor([24, 20, 15, 21, 15, 21, 15, 17])\n",
      "torch.Size([8, 3, 128, 256])\n",
      "torch.Size([8, 3, 128, 256])\n",
      "torch.Size([8, 3, 24, 128, 256])\n",
      "tensor([19, 15, 21, 17, 24, 18, 24, 20])\n",
      "torch.Size([8, 3, 128, 256])\n",
      "torch.Size([8, 3, 128, 256])\n",
      "torch.Size([8, 3, 24, 128, 256])\n",
      "tensor([16, 18, 15, 21, 15, 24, 21, 18])\n",
      "torch.Size([8, 3, 128, 256])\n",
      "torch.Size([8, 3, 128, 256])\n",
      "torch.Size([8, 3, 24, 128, 256])\n",
      "tensor([19, 15, 18, 19, 17, 24, 18, 24])\n",
      "torch.Size([8, 3, 128, 256])\n",
      "torch.Size([8, 3, 128, 256])\n",
      "torch.Size([8, 3, 24, 128, 256])\n",
      "tensor([16, 16, 20, 20, 18, 17, 16, 19])\n",
      "torch.Size([8, 3, 128, 256])\n",
      "torch.Size([8, 3, 128, 256])\n",
      "torch.Size([8, 3, 20, 128, 256])\n",
      "tensor([17, 20, 17, 25, 17, 21, 18, 20])\n",
      "torch.Size([8, 3, 128, 256])\n",
      "torch.Size([8, 3, 128, 256])\n",
      "torch.Size([8, 3, 25, 128, 256])\n",
      "tensor([17, 18, 15, 24, 24, 24, 15, 18])\n",
      "torch.Size([8, 3, 128, 256])\n",
      "torch.Size([8, 3, 128, 256])\n",
      "torch.Size([8, 3, 24, 128, 256])\n",
      "tensor([23, 21, 21, 15, 23, 15, 23, 19])\n",
      "torch.Size([8, 3, 128, 256])\n",
      "torch.Size([8, 3, 128, 256])\n",
      "torch.Size([8, 3, 23, 128, 256])\n",
      "tensor([17, 24, 16, 24, 24, 17, 24, 22])\n",
      "torch.Size([8, 3, 128, 256])\n",
      "torch.Size([8, 3, 128, 256])\n",
      "torch.Size([8, 3, 24, 128, 256])\n",
      "tensor([24, 19, 24, 22, 19, 17, 17, 19])\n",
      "torch.Size([8, 3, 128, 256])\n",
      "torch.Size([8, 3, 128, 256])\n",
      "torch.Size([8, 3, 24, 128, 256])\n",
      "tensor([24, 19, 21, 23, 24, 24, 15, 15])\n",
      "torch.Size([8, 3, 128, 256])\n",
      "torch.Size([8, 3, 128, 256])\n",
      "torch.Size([8, 3, 24, 128, 256])\n",
      "tensor([15, 21, 24, 19, 20, 22, 23, 23])\n",
      "torch.Size([8, 3, 128, 256])\n",
      "torch.Size([8, 3, 128, 256])\n",
      "torch.Size([8, 3, 24, 128, 256])\n",
      "tensor([25, 21, 19, 15, 18, 24, 18, 24])\n",
      "torch.Size([8, 3, 128, 256])\n",
      "torch.Size([8, 3, 128, 256])\n",
      "torch.Size([8, 3, 25, 128, 256])\n",
      "tensor([16, 24, 24, 16, 19, 21, 15, 18])\n",
      "torch.Size([8, 3, 128, 256])\n",
      "torch.Size([8, 3, 128, 256])\n",
      "torch.Size([8, 3, 24, 128, 256])\n",
      "tensor([18, 18, 15, 24, 18, 19, 24, 20])\n",
      "torch.Size([8, 3, 128, 256])\n",
      "torch.Size([8, 3, 128, 256])\n",
      "torch.Size([8, 3, 24, 128, 256])\n",
      "tensor([20, 18, 20, 24, 15, 16, 24, 17])\n",
      "torch.Size([8, 3, 128, 256])\n",
      "torch.Size([8, 3, 128, 256])\n",
      "torch.Size([8, 3, 24, 128, 256])\n",
      "tensor([18, 26, 21, 24, 15, 21, 24, 21])\n",
      "torch.Size([8, 3, 128, 256])\n",
      "torch.Size([8, 3, 128, 256])\n",
      "torch.Size([8, 3, 26, 128, 256])\n",
      "tensor([24, 15, 16, 22, 22, 24, 17, 15])\n",
      "torch.Size([8, 3, 128, 256])\n",
      "torch.Size([8, 3, 128, 256])\n",
      "torch.Size([8, 3, 24, 128, 256])\n",
      "tensor([22, 15, 19, 15, 21, 16, 24, 15])\n",
      "torch.Size([8, 3, 128, 256])\n",
      "torch.Size([8, 3, 128, 256])\n",
      "torch.Size([8, 3, 24, 128, 256])\n",
      "tensor([17, 21, 21, 15, 22, 20, 18, 17])\n",
      "torch.Size([8, 3, 128, 256])\n",
      "torch.Size([8, 3, 128, 256])\n",
      "torch.Size([8, 3, 22, 128, 256])\n",
      "tensor([18, 16, 15, 20, 22, 24, 24, 18])\n",
      "torch.Size([8, 3, 128, 256])\n",
      "torch.Size([8, 3, 128, 256])\n",
      "torch.Size([8, 3, 24, 128, 256])\n",
      "tensor([15, 18, 24, 24, 19, 21, 20, 15])\n",
      "torch.Size([8, 3, 128, 256])\n",
      "torch.Size([8, 3, 128, 256])\n",
      "torch.Size([8, 3, 24, 128, 256])\n",
      "tensor([23, 18, 15, 23, 25, 16, 23, 24])\n",
      "torch.Size([8, 3, 128, 256])\n",
      "torch.Size([8, 3, 128, 256])\n",
      "torch.Size([8, 3, 25, 128, 256])\n",
      "tensor([19, 23, 24, 17, 24, 25, 18, 15])\n",
      "torch.Size([8, 3, 128, 256])\n",
      "torch.Size([8, 3, 128, 256])\n",
      "torch.Size([8, 3, 25, 128, 256])\n",
      "tensor([20, 20, 24, 19, 22, 19, 17, 17])\n",
      "torch.Size([8, 3, 128, 256])\n",
      "torch.Size([8, 3, 128, 256])\n",
      "torch.Size([8, 3, 24, 128, 256])\n",
      "tensor([24, 18, 24, 19, 20, 15, 21, 15])\n",
      "torch.Size([8, 3, 128, 256])\n",
      "torch.Size([8, 3, 128, 256])\n",
      "torch.Size([8, 3, 24, 128, 256])\n"
     ]
    }
   ],
   "source": [
    "i = 0\n",
    "for b in dataloader.train_dataloader():\n",
    "    print(b[\"frame_number\"])\n",
    "    print(b[\"first_frame\"].shape)\n",
    "    print(b[\"end_frame\"].shape)\n",
    "    print(b[\"target\"].shape)\n",
    "    target = b[\"target\"]\n",
    "    i += 1\n",
    "    if i > 50:\n",
    "        break"
   ]
  },
  {
   "cell_type": "code",
   "execution_count": null,
   "metadata": {},
   "outputs": [],
   "source": []
  }
 ],
 "metadata": {
  "kernelspec": {
   "display_name": "Python 3.9.15 64-bit",
   "language": "python",
   "name": "python3"
  },
  "language_info": {
   "codemirror_mode": {
    "name": "ipython",
    "version": 3
   },
   "file_extension": ".py",
   "mimetype": "text/x-python",
   "name": "python",
   "nbconvert_exporter": "python",
   "pygments_lexer": "ipython3",
   "version": "3.9.15"
  },
  "orig_nbformat": 4,
  "vscode": {
   "interpreter": {
    "hash": "f9f85f796d01129d0dd105a088854619f454435301f6ffec2fea96ecbd9be4ac"
   }
  }
 },
 "nbformat": 4,
 "nbformat_minor": 2
}
