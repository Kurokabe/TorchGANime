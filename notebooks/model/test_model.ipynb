{
 "cells": [
  {
   "cell_type": "code",
   "execution_count": 1,
   "id": "1f9f48c4-f24b-4c37-b664-ff746abcb0ce",
   "metadata": {},
   "outputs": [],
   "source": [
    "%load_ext autoreload\n",
    "%autoreload 2"
   ]
  },
  {
   "cell_type": "code",
   "execution_count": 3,
   "id": "471b5bac",
   "metadata": {},
   "outputs": [],
   "source": [
    "import sys\n",
    "sys.path.append(\"../..\")"
   ]
  },
  {
   "cell_type": "code",
   "execution_count": 4,
   "id": "47a3e161",
   "metadata": {},
   "outputs": [
    {
     "name": "stderr",
     "output_type": "stream",
     "text": [
      "/usr/local/lib/python3.9/dist-packages/horovod/common/util.py:258: UserWarning: Framework pytorch installed with version 1.13.0+cu117 but found version 1.13.1+cu117.\n",
      "             This can result in unexpected behavior including runtime errors.\n",
      "             Reinstall Horovod using `pip install --no-cache-dir` to build with the new version.\n",
      "  warnings.warn(get_version_mismatch_message(name, version, installed_version))\n"
     ]
    }
   ],
   "source": [
    "from torchganime.models.ganime import GANime\n",
    "from torchganime.data.dataloader.video import VideoData"
   ]
  },
  {
   "cell_type": "code",
   "execution_count": 37,
   "id": "1f196e3b",
   "metadata": {},
   "outputs": [
    {
     "name": "stderr",
     "output_type": "stream",
     "text": [
      "2023-03-04 11:31:01.063 | INFO     | scenedataset.scenedataset:_get_video_paths:550 - Found 1 videos\n"
     ]
    },
    {
     "data": {
      "application/vnd.jupyter.widget-view+json": {
       "model_id": "f0e17da0e7a24dd083b80f40825c0427",
       "version_major": 2,
       "version_minor": 0
      },
      "text/plain": [
       "Removing duplicates from scene /TorchGANime/data/kny/raw_videos/01.mkv...:   0%|          | 0/527 [00:00<?, ?i…"
      ]
     },
     "metadata": {},
     "output_type": "display_data"
    },
    {
     "name": "stderr",
     "output_type": "stream",
     "text": [
      "2023-03-04 11:31:01.085 | INFO     | scenedataset.scenedataset:save_scenes:378 - Scene list file /TorchGANime/data/.cache/content_15_15/duplicate_metric_mae/threshold_0.01/_TorchGANime_data_kny_raw_videos_01.mkv.json already up to date.\n",
      "2023-03-04 11:31:01.443 | INFO     | scenedataset.scenedataset:_get_video_paths:550 - Found 1 videos\n"
     ]
    },
    {
     "data": {
      "application/vnd.jupyter.widget-view+json": {
       "model_id": "8f386ed6fae540288bef7200a6c52c98",
       "version_major": 2,
       "version_minor": 0
      },
      "text/plain": [
       "Removing duplicates from scene /TorchGANime/data/kny/raw_videos/01.mkv...:   0%|          | 0/527 [00:00<?, ?i…"
      ]
     },
     "metadata": {},
     "output_type": "display_data"
    },
    {
     "name": "stderr",
     "output_type": "stream",
     "text": [
      "2023-03-04 11:31:01.465 | INFO     | scenedataset.scenedataset:save_scenes:378 - Scene list file /TorchGANime/data/.cache/content_15_15/duplicate_metric_mae/threshold_0.01/_TorchGANime_data_kny_raw_videos_01.mkv.json already up to date.\n"
     ]
    }
   ],
   "source": [
    "dataloader = VideoData(\n",
    "    train_paths=\"/TorchGANime/data/kny/raw_videos/01.mkv\",\n",
    "    val_paths=\"/TorchGANime/data/kny/raw_videos/01.mkv\",\n",
    "    batch_size=1,\n",
    "    num_workers=1,\n",
    "    image_size=[64, 128],\n",
    "    min_max_len=[15, 20],\n",
    "    duplicate_metric=\"mae\",\n",
    "    duplicate_threshold=0.01,\n",
    "    root_dir=\"/TorchGANime/data/.cache\",\n",
    "    device=\"cpu\",\n",
    "    n_jobs=1,\n",
    "    default_mode=\"video\",\n",
    ")"
   ]
  },
  {
   "cell_type": "code",
   "execution_count": 38,
   "id": "0d739a55",
   "metadata": {},
   "outputs": [],
   "source": [
    "for batch in dataloader.train_dataloader():\n",
    "    break"
   ]
  },
  {
   "cell_type": "code",
   "execution_count": 39,
   "id": "d0c1bbf9",
   "metadata": {},
   "outputs": [
    {
     "data": {
      "text/plain": [
       "torch.Size([1, 3, 18, 64, 128])"
      ]
     },
     "execution_count": 39,
     "metadata": {},
     "output_type": "execute_result"
    }
   ],
   "source": [
    "batch[1].shape"
   ]
  },
  {
   "cell_type": "code",
   "execution_count": 40,
   "id": "c3e6bcac",
   "metadata": {},
   "outputs": [
    {
     "data": {
      "text/plain": [
       "torch.Size([1, 3, 64, 128])"
      ]
     },
     "execution_count": 40,
     "metadata": {},
     "output_type": "execute_result"
    }
   ],
   "source": [
    "batch[0][\"current_frames\"].shape"
   ]
  },
  {
   "cell_type": "code",
   "execution_count": 41,
   "id": "3512e3b6",
   "metadata": {},
   "outputs": [
    {
     "name": "stdout",
     "output_type": "stream",
     "text": [
      "Working with z of shape (1, 512, 32, 32) = 524288 dimensions.\n",
      "loaded pretrained LPIPS loss from /TorchGANime/torchganime/models/lpips/vgg.pth\n",
      "VQLPIPSWithDiscriminator running with hinge loss.\n",
      "loaded pretrained LPIPS loss from /TorchGANime/torchganime/models/lpips/vgg.pth\n"
     ]
    }
   ],
   "source": [
    "model = GANime(\n",
    "    learning_rate=2.5e-4,\n",
    "    vqgan_ckpt_path=\"/TorchGANime/checkpoints/vqgan_full_64x128/checkpoints/checkpoint.ckpt\",\n",
    "    vocab_size=1024,\n",
    "    n_positions=1024,\n",
    "    n_embd=768,\n",
    "    n_layer=12,\n",
    "    n_head=12,\n",
    "    use_token_type_ids=False,\n",
    "    rec_loss_weight=0.0,\n",
    "    perceptual_loss_weight=0.0,\n",
    "    mode=\"video\",\n",
    ")\n"
   ]
  },
  {
   "cell_type": "code",
   "execution_count": 42,
   "id": "3dbc9c4f",
   "metadata": {},
   "outputs": [],
   "source": [
    "output = model(batch[0], batch[1])"
   ]
  },
  {
   "cell_type": "code",
   "execution_count": 43,
   "id": "290af930",
   "metadata": {},
   "outputs": [
    {
     "data": {
      "text/plain": [
       "torch.Size([1, 3, 18, 64, 128])"
      ]
     },
     "execution_count": 43,
     "metadata": {},
     "output_type": "execute_result"
    }
   ],
   "source": [
    "output[\"prediction\"].shape"
   ]
  },
  {
   "cell_type": "code",
   "execution_count": 44,
   "id": "4297df41",
   "metadata": {},
   "outputs": [
    {
     "data": {
      "text/plain": [
       "dict_keys(['prediction', 'loss', 'scce_loss', 'nll_loss', 'rec_loss', 'p_loss'])"
      ]
     },
     "execution_count": 44,
     "metadata": {},
     "output_type": "execute_result"
    }
   ],
   "source": [
    "output.keys()"
   ]
  },
  {
   "cell_type": "code",
   "execution_count": 45,
   "id": "085fa714",
   "metadata": {},
   "outputs": [
    {
     "data": {
      "text/plain": [
       "tensor(6.2488, grad_fn=<AddBackward0>)"
      ]
     },
     "execution_count": 45,
     "metadata": {},
     "output_type": "execute_result"
    }
   ],
   "source": [
    "output[\"loss\"]"
   ]
  },
  {
   "cell_type": "code",
   "execution_count": null,
   "id": "0684538d",
   "metadata": {},
   "outputs": [],
   "source": []
  }
 ],
 "metadata": {
  "kernelspec": {
   "display_name": "Python 3.8.10 64-bit",
   "language": "python",
   "name": "python3"
  },
  "language_info": {
   "codemirror_mode": {
    "name": "ipython",
    "version": 3
   },
   "file_extension": ".py",
   "mimetype": "text/x-python",
   "name": "python",
   "nbconvert_exporter": "python",
   "pygments_lexer": "ipython3",
   "version": "3.9.16"
  },
  "vscode": {
   "interpreter": {
    "hash": "e7370f93d1d0cde622a1f8e1c04877d8463912d04d973331ad4851f04de6915a"
   }
  }
 },
 "nbformat": 4,
 "nbformat_minor": 5
}
